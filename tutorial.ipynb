{
 "cells": [
  {
   "cell_type": "markdown",
   "id": "0ef10c37",
   "metadata": {},
   "source": [
    "# 如何使用 PyWazi\n",
    "\n",
    "这是一个简单的教程，以告知大家如何使用 PyWazi 应对一些可能出现的需求。\n",
    "\n",
    "## 安装\n",
    "\n",
    "1. `git clone https://github.com/Yazawazi/pywazi`；\n",
    "2. `cd pywazi`;\n",
    "3. `pip install -r .\\requirements.txt`。\n",
    "\n",
    "此时，你就可以新建你的代码文件以完全需求了。\n",
    "\n",
    "## 导入 PyWazi\n",
    "\n",
    "使用以下代码，进行一个 PyWazi 的导入："
   ]
  },
  {
   "cell_type": "code",
   "execution_count": null,
   "id": "c9e7a8dc",
   "metadata": {},
   "outputs": [],
   "source": [
    "from pywazi import *"
   ]
  },
  {
   "cell_type": "markdown",
   "id": "79b820c5",
   "metadata": {},
   "source": [
    "使用该代码之后，将会导入所有的实例化的站点模块、日志和读取配置模块和没有实例化的主模块。\n",
    "\n",
    "## 主模块的教程\n",
    "\n",
    "主模块叫 `waziMain`，它有三个静态接口，你完全可以不实例它直接调用。它可以用于配置所有的站点模块。\n",
    "\n",
    "### 读取配置文件\n",
    "\n",
    "使用以下代码，进行一个配置文件的读取："
   ]
  },
  {
   "cell_type": "code",
   "execution_count": null,
   "id": "82b1d749",
   "metadata": {},
   "outputs": [],
   "source": [
    "waziMain.defConfig(\"./config.json\")"
   ]
  },
  {
   "cell_type": "markdown",
   "id": "8ad6f6e9",
   "metadata": {},
   "source": [
    "配置文件中记载了所有站点模块的配置，格式如下（内容都是可选的）：\n",
    "\n",
    "```jsonc\n",
    "[{\n",
    "    \"name\": \"JavBus\",         // 即表示这是 JavBus 的配置\n",
    "    \"params\": {},             // 这里是 Params 内容，跟前文一致\n",
    "    \"url\": \"\",                // 设置 JavBus 的镜像站地址\n",
    "    \"eaUrl\": \"\",              // 设置 JavBus.red 的镜像站地址\n",
    "    \"type\": 0                 // 设置 JavBus 的类型，0 为仅显示有磁力的影片，1 为显示所有影片\n",
    "}, {\n",
    "    \"name\": \"PicAcg\",         // 即表示这是 PicAcg 的配置\n",
    "    \"params\": {},             // 这里是 Params 内容，跟前文一致\n",
    "    \"login\": {\n",
    "        \"username\": \"\",       // 设置登录用户名\n",
    "        \"password\": \"\"        // 设置登录密码\n",
    "    },\n",
    "    \"image\": 0                // 设置图片素质，0 为原图，1 为 low，2 为 medium，3 为 high\n",
    "}, {\n",
    "    \"name\": \"Danbooru\",       // 即表示这是 Danbooru 的配置\n",
    "    \"params\": {},             // 这里是 Params 内容，跟前文一致\n",
    "    \"url\": \"\",                // 设置 Danbooru 类网站地址\n",
    "    \"ports\": [{               // 设置请求 API 路由，可以设置多个\n",
    "        \"key\": \"\",            // 设置 key\n",
    "        \"value\": \"\"           // 设置 value 可见 `waziDanbooru.setPort` 相关内容\n",
    "    }]\n",
    "}, {\n",
    "    \"name\": \"ExHentai\",       // 即表示这是 ExHentai 的配置\n",
    "    \"params\": {},             // 这里是 Params 内容，跟前文一致\n",
    "    \"cookies\": \"\",            // 设置 ExHentai 的 Cookies\n",
    "    \"fullComment\": true,      // 设置是否显示全部评论\n",
    "    \"jump\": true,             // 是否跳过画廊警告\n",
    "    \"parse\": true,            // 是否解析画廊\n",
    "    \"thumbType\": \"large\"      // 设置缩略图类型，large 是大图，normal 是普通模式\n",
    "}, {\n",
    "    \"name\": \"AsianSister\",    // 即表示这是 AsianSister 的配置\n",
    "    \"params\": {}              // 这里是 Params 内容，跟前文一致\n",
    "}, {\n",
    "    \"name\": \"Nyaa\",           // 即表示这是 Nyaa 的配置\n",
    "    \"params\": {}              // 这里是 Params 内容，跟前文一致\n",
    "}, {\n",
    "    \"name\": \"Log\",            // 即表示这是 Log 的配置\n",
    "    \"save\": true,             // 是否保存日志\n",
    "    \"level\": 5                // 设置日志屏幕输入等级，-1 不显示，0 是错误，1 是警告，2 是信息，3 是调试，更高级别则与 3 同步\n",
    "}]\n",
    "```\n",
    "\n",
    "### 设置全局配置\n",
    "\n",
    "如果你只是想设置全局配置的话，比如只是统一代理的使用等，你可以使用以下的代码："
   ]
  },
  {
   "cell_type": "code",
   "execution_count": null,
   "id": "18ca9ff1",
   "metadata": {},
   "outputs": [],
   "source": [
    "waziMain.globalParams({\n",
    "    \"useProxies\": True, \n",
    "    \"proxyAddress\": \"127.0.0.1\",\n",
    "    \"proxyPort\": 7890\n",
    "})"
   ]
  },
  {
   "cell_type": "markdown",
   "id": "09723c68",
   "metadata": {},
   "source": [
    "它的格式如下：\n",
    "\n",
    "```python\n",
    "{\n",
    "    \"useProxies\": True,           # 是否需要使用代理\n",
    "    \"proxyAddress\": \"127.0.0.1\",  # 代理地址是什么\n",
    "    \"proxyPort\": 7890,            # 代理端口是什么\n",
    "    \"useHeaders\": True,           # 是否需要使用自定义请求头\n",
    "    \"headers\": {}                 # 自定义请求头\n",
    "}\n",
    "```\n",
    "\n",
    "事实上，你可以只完全填写关于代理的需求，设置自定义请求头的特殊情况极为少见，程序事实上会自动设置的，如果你自己设置的话，可能会导致一些模块的失效（事实上，谁知道呢）。\n",
    "\n",
    "### 从文件中设置全局代理\n",
    "\n",
    "使用代码为 `waziMain.globalParamsByFile(\"./global.json\")`，格式和效果同上。"
   ]
  },
  {
   "cell_type": "markdown",
   "id": "8786a3ef",
   "metadata": {},
   "source": [
    "## 日志模块的教程\n",
    "\n",
    "日志模块是 `waziLog`，你可以通过这个模块设置是否需要保存日志或者日志屏幕输出级别。\n",
    "\n",
    "### 设置保存日志\n",
    "\n",
    "使用以下代码保存日志："
   ]
  },
  {
   "cell_type": "code",
   "execution_count": null,
   "id": "12b8b4bd",
   "metadata": {},
   "outputs": [],
   "source": [
    "waziLog.needSave(True)"
   ]
  },
  {
   "cell_type": "markdown",
   "id": "a8916e4c",
   "metadata": {},
   "source": [
    "同理，`needSave` 的参数是 `False` 就表示不保存日志。日志保存在 `./logs/` 文件夹下，使用日期名作为文件名。\n",
    "\n",
    "### 设置日志屏幕输出级别\n",
    "\n",
    "有时候你需要在控制台进行代码追踪或者想让它显示错误日志之类的，你就可以使用这个接口，举例如下："
   ]
  },
  {
   "cell_type": "code",
   "execution_count": null,
   "id": "8bbe2d3f",
   "metadata": {},
   "outputs": [],
   "source": [
    "waziLog.setMinDisplayLevel(-1)"
   ]
  },
  {
   "cell_type": "markdown",
   "id": "e5539b41",
   "metadata": {},
   "source": [
    "`-1` 表示什么都不打印，什么都不会在屏幕上显示；`0` 表示显示错误的日志输出；`1` 表示显示错误、警告的日志输出；`2` 表示显示错误、警告、信息的日志输出；`3` 表示显示全部，包括调试级别的（会非常的多，大部分其实是追踪级别的）。"
   ]
  },
  {
   "cell_type": "markdown",
   "id": "94a81ca9",
   "metadata": {},
   "source": [
    "## AsianSister 站点模块的使用教程\n",
    "\n",
    "AsianSister 对应的网站我这边先贴出来：`https://asiansister.com/`，很惭愧，只做了一点微小的工作，作为教程，我先导入一个案例："
   ]
  },
  {
   "cell_type": "code",
   "execution_count": null,
   "id": "119279b0",
   "metadata": {},
   "outputs": [],
   "source": [
    "from pywazi import waziAsianSister\n",
    "\n",
    "waziAsianSister.giveParams({\n",
    "    \"useProxies\": True,                             # 是否使用代理\n",
    "    \"proxyAddress\": \"127.0.0.1\",                    # 代理地址\n",
    "    \"proxyPort\": 7890                               # 代理端口\n",
    "})\n",
    "\n",
    "for page in range(1, 3):\n",
    "    # 爬两页吧，我没啥时间（）\n",
    "    info = waziAsianSister.getPage(page)            # 获取页面\n",
    "    for i in info[0]:                               # 画廊信息在 info[0] 中 是一个列表\n",
    "        waziAsianSister.downloadGallery(            # 下载画廊\n",
    "            gallery = i[\"link\"].split(\"/\")[-1],     # 画廊后缀\n",
    "            path = \"./download\"                     # 保存路径\n",
    "        )"
   ]
  },
  {
   "cell_type": "markdown",
   "id": "cee71fd8",
   "metadata": {},
   "source": [
    "上文的代码是爬取两页 `AsisnSister` 的画廊，事实上还是很花时间的，这得看你的代理或者网络情况了。每页 `40` 个画廊，一个画廊大概 `25` 张左右，大概 `2000` 多张吧，或许可以试着多线程进行一个爬，那我先摸了（逃）\n",
    "\n",
    "淦淦，我都两倍速看完了一季 `Yes, Minister.` 在看最后一季了，还是没下完，这是否有点...\n",
    "\n",
    "### 设置用户参数\n",
    "\n",
    "OKAY，如果你没有使用前文的主模块的设置参数的接口的话，想要自己一个一个设置参数，没有问题。对于 `AsianSister` 还是其他的模块都一样，看代码："
   ]
  },
  {
   "cell_type": "code",
   "execution_count": null,
   "id": "4aa29474",
   "metadata": {},
   "outputs": [],
   "source": [
    "waziAsianSister.giveParams({\n",
    "    \"useProxies\": True, \n",
    "    \"proxyAddress\": \"127.0.0.1\",\n",
    "    \"proxyPort\": 7890\n",
    "})"
   ]
  },
  {
   "cell_type": "markdown",
   "id": "158e788b",
   "metadata": {},
   "source": [
    "事实上，所有的站点模块都有这个接口，用于设置属于他们的参数，比如要下载大流量的，比如全天候要开着爬的，你可以换一个不限速的代理，其他的比如说 `Danbooru` 接口，你或许需要自定义请求头嘞。\n",
    "\n",
    "### 下载单个文件\n",
    "\n",
    "我是说，如果你需要下载单个文件了，或者自己实现一个下载画廊之类的接口，可以试试看 `downloadFile` 这个接口，用于下载一个文件，举例如下："
   ]
  },
  {
   "cell_type": "code",
   "execution_count": null,
   "id": "adbd1e3c",
   "metadata": {},
   "outputs": [],
   "source": [
    "waziAsianSister.downloadFile(\n",
    "    url = \"https://asiansister.com/images/cover/20/R735AeWiX1J77.jpg\",\n",
    "    name = \"cover.jpg\",\n",
    "    path = \"./download\"\n",
    ")"
   ]
  },
  {
   "cell_type": "code",
   "execution_count": null,
   "id": "764ed030",
   "metadata": {},
   "outputs": [],
   "source": []
  }
 ],
 "metadata": {
  "kernelspec": {
   "display_name": "Python 3 (ipykernel)",
   "language": "python",
   "name": "python3"
  },
  "language_info": {
   "codemirror_mode": {
    "name": "ipython",
    "version": 3
   },
   "file_extension": ".py",
   "mimetype": "text/x-python",
   "name": "python",
   "nbconvert_exporter": "python",
   "pygments_lexer": "ipython3",
   "version": "3.10.2"
  }
 },
 "nbformat": 4,
 "nbformat_minor": 5
}
